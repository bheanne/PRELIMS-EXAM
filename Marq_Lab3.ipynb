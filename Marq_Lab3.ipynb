{
  "nbformat": 4,
  "nbformat_minor": 0,
  "metadata": {
    "colab": {
      "name": "Marq_Lab3.ipynb",
      "provenance": [],
      "authorship_tag": "ABX9TyPLwcipzvAKQ78zq4iTvvFW",
      "include_colab_link": true
    },
    "kernelspec": {
      "name": "python3",
      "display_name": "Python 3"
    }
  },
  "cells": [
    {
      "cell_type": "markdown",
      "metadata": {
        "id": "view-in-github",
        "colab_type": "text"
      },
      "source": [
        "<a href=\"https://colab.research.google.com/github/bheanne/PRELIMS-EXAM/blob/main/Marq_Lab3.ipynb\" target=\"_parent\"><img src=\"https://colab.research.google.com/assets/colab-badge.svg\" alt=\"Open In Colab\"/></a>"
      ]
    },
    {
      "cell_type": "markdown",
      "metadata": {
        "id": "AAUAnZcYRoIT"
      },
      "source": [
        "# **Task 1**"
      ]
    },
    {
      "cell_type": "markdown",
      "metadata": {
        "id": "lfXjMZnRe4o3"
      },
      "source": [
        "##GeneraL Linear Equation Form \r\n",
        "$$  vectorB = 8 \\hat{x} + 2\\hat{y} \\\\\r\n",
        "  vectorH = 10 \\hat{x} + -5\\hat{y} $$\r\n",
        "\r\n",
        "  <br> \r\n",
        "\r\n",
        "##Vector Form\r\n",
        "$$ vectorB = \\begin{bmatrix} 8\\\\2 \\\\\\end{bmatrix} \\\\\r\n",
        "vectorH = \\begin{bmatrix} 10\\\\-5 \\\\\\end{bmatrix} $$"
      ]
    },
    {
      "cell_type": "code",
      "metadata": {
        "colab": {
          "base_uri": "https://localhost:8080/",
          "height": 268
        },
        "id": "DH_GY7HcRo88",
        "outputId": "63c07104-11bc-4812-f52a-be309646b70b"
      },
      "source": [
        "import numpy as np\r\n",
        "import matplotlib.pyplot as plt\r\n",
        "\r\n",
        "vectorB = np.array([8,2])\r\n",
        "vectorH = np.array([10,-5])\r\n",
        "\r\n",
        "scalarE = np.arange(-4,8,0.02)\r\n",
        "scalarA = np.arange(-5,10,0.02)\r\n",
        "\r\n",
        "plt.scatter(scalarE * vectorH[0], scalarE * vectorH[1], \r\n",
        "            label = \"ScalarE * VectorH\", color= \"saddlebrown\")\r\n",
        "plt.scatter(scalarA * vectorB[0], scalarA * vectorB[1], \r\n",
        "            label = \"ScalarA * VectorB\", color = \"peru\")\r\n",
        "\r\n",
        "plt.xlim(-100,100)\r\n",
        "plt.ylim(-100,100)\r\n",
        "plt.axhline(y=0, color='k')\r\n",
        "plt.axvline(x=0, color='k')\r\n",
        "plt.grid()\r\n",
        "plt.legend()\r\n",
        "plt.show()"
      ],
      "execution_count": 50,
      "outputs": [
        {
          "output_type": "display_data",
          "data": {
            "image/png": "[encoded data removed]",
            "text/plain": [
              "<Figure size 432x288 with 1 Axes>"
            ]
          },
          "metadata": {
            "tags": [],
            "needs_background": "light"
          }
        }
      ]
    },
    {
      "cell_type": "markdown",
      "metadata": {
        "id": "qrTZgSrDbzNH"
      },
      "source": [
        "# **Task 2**"
      ]
    },
    {
      "cell_type": "markdown",
      "metadata": {
        "id": "bybeF5VyRp0v"
      },
      "source": [
        "$$ General\\ Linear\\ Equation\\ Form \\\\\r\n",
        "  vectorC = 6 \\hat{x} + 3\\hat{y} \\\\\r\n",
        "  vectorA = 8 \\hat{x} + -4\\hat{y} $$\r\n",
        "\r\n",
        "  <br> \r\n",
        "\r\n",
        "$$ Vector\\ Form \\\\\r\n",
        "vectorC = \\begin{bmatrix} 6\\\\3 \\\\\\end{bmatrix} \\\\ \r\n",
        "vectorA = \\begin{bmatrix} 8\\\\-4 \\\\\\end{bmatrix} $$"
      ]
    },
    {
      "cell_type": "code",
      "metadata": {
        "colab": {
          "base_uri": "https://localhost:8080/",
          "height": 268
        },
        "id": "mhN0TJh2RrF5",
        "outputId": "dfea6c18-8e45-45b5-d582-68f40b005e34"
      },
      "source": [
        "import numpy as np\r\n",
        "import matplotlib.pyplot as plt\r\n",
        "\r\n",
        "vectorC = np.array([6,3])\r\n",
        "vectorA = np.array([8,-4])\r\n",
        "\r\n",
        "scalarL = np.arange(-1,4,0.02)\r\n",
        "scalarU = np.arange(-3,6,0.02)\r\n",
        "scalarM = np.arange(-5,8,0.02)\r\n",
        "\r\n",
        "r1, r2 = np.meshgrid(scalarL,scalarL)\r\n",
        "r3, r4 = np.meshgrid(scalarU,scalarU)\r\n",
        "r5, r6 = np.meshgrid(scalarM,scalarM)\r\n",
        "\r\n",
        "spanRxX = r5 * vectorC[0] + r6 * vectorA[0]\r\n",
        "spanRyX = r5 * vectorC[1] + r6 * vectorA[1]\r\n",
        "plt.scatter(spanRxX, spanRyX, s=5, alpha=0.75, label = \"Span 1\", color=\"purple\")\r\n",
        "\r\n",
        "spanRxY = r3 * vectorC[0] + r4 * vectorA[0]\r\n",
        "spanRyY = r3 * vectorC[1] + r4 * vectorA[1]\r\n",
        "plt.scatter(spanRxY, spanRyY, s=5, alpha=0.75, label = \"Span 2\", color=\"violet\")\r\n",
        "\r\n",
        "spanRxZ = r1 * vectorC[0] + r2 * vectorA[0]\r\n",
        "spanRyZ = r1 * vectorC[1] + r2 * vectorA[1]\r\n",
        "plt.scatter(spanRxZ, spanRyZ, s=5, alpha=0.75, label = \"Span 3\", color=\"darkmagenta\")\r\n",
        "\r\n",
        "plt.xlim(-100,150)\r\n",
        "plt.ylim(-100,150)\r\n",
        "plt.axhline(y=0, color='k')\r\n",
        "plt.axvline(x=0, color='k')\r\n",
        "plt.grid()\r\n",
        "plt.legend()\r\n",
        "plt.show()"
      ],
      "execution_count": 51,
      "outputs": [
        {
          "output_type": "display_data",
          "data": {
            "image/png": "[encoded data removed]",
            "text/plain": [
              "<Figure size 432x288 with 1 Axes>"
            ]
          },
          "metadata": {
            "tags": [],
            "needs_background": "light"
          }
        }
      ]
    }
  ]
}